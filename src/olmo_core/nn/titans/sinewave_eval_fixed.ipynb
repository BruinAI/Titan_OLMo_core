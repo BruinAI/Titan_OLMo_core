{
  "cells": [
    {
      "cell_type": "code",
      "execution_count": null,
      "metadata": {
        "colab": {
          "base_uri": "https://localhost:8080/"
        },
        "id": "UKUs43QemtJx",
        "outputId": "d731c0df-6ef7-4446-d825-2bb66c476418"
      },
      "outputs": [
        {
          "data": {
            "text/plain": [
              "<torch.autograd.grad_mode.set_grad_enabled at 0x7f1154bb2d10>"
            ]
          },
          "execution_count": 3,
          "metadata": {},
          "output_type": "execute_result"
        }
      ],
      "source": [
        "import torch\n",
        "from torch.nn import LSTM\n",
        "from torch import nn, optim\n",
        "from torch.func import functional_call\n",
        "from torch.nn.functional import normalize\n",
        "from torch.utils.data import Dataset, DataLoader\n",
        "\n",
        "import numpy as np\n",
        "from numpy.lib.stride_tricks import sliding_window_view\n",
        "\n",
        "from copy import deepcopy\n",
        "from tqdm import tqdm\n",
        "import sys\n",
        "import os\n",
        "\n",
        "cwd = os.getcwd()\n",
        "path = os.path.dirname(cwd)\n",
        "if path not in sys.path:\n",
        "    sys.path.insert(0, path)\n",
        "\n",
        "import titans # type: ignore\n",
        "from titans.dataset import TSDataset # type: ignore\n",
        "from titans.train_utils import train_and_test # type: ignore\n",
        "from titans.neural_memory import NeuralMemory # type: ignore\n",
        "from titans.titans import MACTitanLayer, MACTitan # type: ignore\n",
        "from titans.models import LSTMModel, AttentionModel, AttentionPMModel # type: ignore\n",
        "\n",
        "\n",
        "torch.set_grad_enabled(True)\n",
        "\n",
        "device = torch.device(\"cuda\" if torch.cuda.is_available() else \"mps\" if torch.backends.mps.is_available() else \"cpu\")\n",
        "\n",
        "# ==========================================================================================="
      ]
    },
    {
      "cell_type": "code",
      "execution_count": 10,
      "metadata": {
        "id": "MYdz2VXtvWfn"
      },
      "outputs": [],
      "source": [
        "train_data = TSDataset('sinwave', 'train', False)\n",
        "valid_data = TSDataset('sinwave', 'valid', False)\n",
        "test_data = TSDataset('sinwave', 'test', False)\n",
        "\n",
        "_train_loader = DataLoader(train_data, batch_size=4, shuffle=True)\n",
        "_valid_loader = DataLoader(valid_data, batch_size=4, shuffle=True)\n",
        "_test_loader = DataLoader(test_data, batch_size=4, shuffle=True)"
      ]
    },
    {
      "cell_type": "code",
      "execution_count": 12,
      "metadata": {
        "colab": {
          "base_uri": "https://localhost:8080/"
        },
        "id": "SDbooortro-w",
        "outputId": "932835d3-4ea5-40d8-82c1-b3df8a508593"
      },
      "outputs": [
        {
          "name": "stdout",
          "output_type": "stream",
          "text": [
            "Training:\n"
          ]
        },
        {
          "name": "stderr",
          "output_type": "stream",
          "text": [
            "100%|██████████| 50/50 [00:24<00:00,  2.05it/s]"
          ]
        },
        {
          "name": "stdout",
          "output_type": "stream",
          "text": [
            "\n",
            " Testing the best model:\n",
            "Test MSE: 0.015617506046380316\n",
            "\n"
          ]
        },
        {
          "name": "stderr",
          "output_type": "stream",
          "text": [
            "\n",
            "/usr/local/lib/python3.11/dist-packages/torch/nn/modules/rnn.py:1124: UserWarning: RNN module weights are not part of single contiguous chunk of memory. This means they need to be compacted at every call, possibly greatly increasing memory usage. To compact weights again call flatten_parameters(). (Triggered internally at /pytorch/aten/src/ATen/native/cudnn/RNN.cpp:1412.)\n",
            "  result = _VF.lstm(\n"
          ]
        },
        {
          "data": {
            "text/plain": [
              "LSTMModel(\n",
              "  (emb_layer): Linear(in_features=1, out_features=16, bias=True)\n",
              "  (relu): ReLU()\n",
              "  (lstm): LSTM(16, 16, batch_first=True)\n",
              "  (final_layer): Linear(in_features=16, out_features=1, bias=True)\n",
              ")"
            ]
          },
          "execution_count": 12,
          "metadata": {},
          "output_type": "execute_result"
        }
      ],
      "source": [
        "model = LSTMModel(1, 16, 16)\n",
        "\n",
        "optimizer = optim.Adam(model.parameters())\n",
        "\n",
        "train_and_test(model, optimizer, _train_loader, _valid_loader, _test_loader, 50)"
      ]
    },
    {
      "cell_type": "code",
      "execution_count": 13,
      "metadata": {
        "colab": {
          "base_uri": "https://localhost:8080/"
        },
        "id": "Caj53-ZYB7-j",
        "outputId": "0600544e-c132-411c-9ea9-994cb497409a"
      },
      "outputs": [
        {
          "name": "stdout",
          "output_type": "stream",
          "text": [
            "Training:\n"
          ]
        },
        {
          "name": "stderr",
          "output_type": "stream",
          "text": [
            "100%|██████████| 50/50 [06:32<00:00,  7.85s/it]\n"
          ]
        },
        {
          "name": "stdout",
          "output_type": "stream",
          "text": [
            "\n",
            " Testing the best model:\n",
            "Test MSE: 0.026209833260093417\n",
            "\n"
          ]
        },
        {
          "data": {
            "text/plain": [
              "AttentionModel(\n",
              "  (emb_layer): Linear(in_features=1, out_features=16, bias=True)\n",
              "  (att_layers): ModuleList(\n",
              "    (0-1): 2 x TransformerEncoderLayer(\n",
              "      (self_attn): MultiheadAttention(\n",
              "        (out_proj): NonDynamicallyQuantizableLinear(in_features=16, out_features=16, bias=True)\n",
              "      )\n",
              "      (linear1): Linear(in_features=16, out_features=2048, bias=True)\n",
              "      (dropout): Dropout(p=0.1, inplace=False)\n",
              "      (linear2): Linear(in_features=2048, out_features=16, bias=True)\n",
              "      (norm1): LayerNorm((16,), eps=1e-05, elementwise_affine=True)\n",
              "      (norm2): LayerNorm((16,), eps=1e-05, elementwise_affine=True)\n",
              "      (dropout1): Dropout(p=0.1, inplace=False)\n",
              "      (dropout2): Dropout(p=0.1, inplace=False)\n",
              "      (activation): SiLU()\n",
              "    )\n",
              "  )\n",
              "  (final_layer): Linear(in_features=256, out_features=1, bias=True)\n",
              ")"
            ]
          },
          "execution_count": 13,
          "metadata": {},
          "output_type": "execute_result"
        }
      ],
      "source": [
        "model = AttentionModel(1, 16, 16)\n",
        "\n",
        "optimizer = optim.Adam(model.parameters())\n",
        "\n",
        "train_and_test(model, optimizer, _train_loader, _valid_loader, _test_loader, 50)"
      ]
    },
    {
      "cell_type": "code",
      "execution_count": 15,
      "metadata": {
        "colab": {
          "base_uri": "https://localhost:8080/"
        },
        "id": "g9MM30jhxk-L",
        "outputId": "d01cd225-e329-41d7-8f3c-c8643b853363"
      },
      "outputs": [
        {
          "name": "stdout",
          "output_type": "stream",
          "text": [
            "Training:\n"
          ]
        },
        {
          "name": "stderr",
          "output_type": "stream",
          "text": [
            "100%|██████████| 50/50 [07:57<00:00,  9.55s/it]\n"
          ]
        },
        {
          "name": "stdout",
          "output_type": "stream",
          "text": [
            "\n",
            " Testing the best model:\n",
            "Test MSE: 0.02737562262586185\n",
            "\n"
          ]
        },
        {
          "data": {
            "text/plain": [
              "AttentionPMModel(\n",
              "  (emb_layer): Linear(in_features=1, out_features=16, bias=True)\n",
              "  (att_layers): ModuleList(\n",
              "    (0-1): 2 x TransformerEncoderLayer(\n",
              "      (self_attn): MultiheadAttention(\n",
              "        (out_proj): NonDynamicallyQuantizableLinear(in_features=16, out_features=16, bias=True)\n",
              "      )\n",
              "      (linear1): Linear(in_features=16, out_features=2048, bias=True)\n",
              "      (dropout): Dropout(p=0.1, inplace=False)\n",
              "      (linear2): Linear(in_features=2048, out_features=16, bias=True)\n",
              "      (norm1): LayerNorm((16,), eps=1e-05, elementwise_affine=True)\n",
              "      (norm2): LayerNorm((16,), eps=1e-05, elementwise_affine=True)\n",
              "      (dropout1): Dropout(p=0.1, inplace=False)\n",
              "      (dropout2): Dropout(p=0.1, inplace=False)\n",
              "      (activation): SiLU()\n",
              "    )\n",
              "  )\n",
              "  (final_layer): Linear(in_features=320, out_features=1, bias=True)\n",
              ")"
            ]
          },
          "execution_count": 15,
          "metadata": {},
          "output_type": "execute_result"
        }
      ],
      "source": [
        "model = AttentionPMModel(1, 16, 16, 4)\n",
        "\n",
        "optimizer = optim.Adam(model.parameters())\n",
        "\n",
        "train_and_test(model, optimizer, _train_loader, _valid_loader, _test_loader, 50)"
      ]
    },
    {
      "cell_type": "code",
      "execution_count": null,
      "metadata": {
        "colab": {
          "base_uri": "https://localhost:8080/"
        },
        "id": "W1mSLKL1pIHX",
        "outputId": "f93a278c-8371-410a-8611-f15f8dfc7d4d"
      },
      "outputs": [
        {
          "name": "stdout",
          "output_type": "stream",
          "text": [
            "Training:\n"
          ]
        },
        {
          "name": "stderr",
          "output_type": "stream",
          "text": [
            " 10%|█         | 1/10 [01:03<09:34, 63.80s/it]"
          ]
        },
        {
          "name": "stdout",
          "output_type": "stream",
          "text": [
            "Validation loss in Epoch 0: 0.04679072509918894\n"
          ]
        },
        {
          "name": "stderr",
          "output_type": "stream",
          "text": [
            "\r 20%|██        | 2/10 [02:08<08:35, 64.41s/it]"
          ]
        },
        {
          "name": "stdout",
          "output_type": "stream",
          "text": [
            "Validation loss in Epoch 1: 0.0287671905543123\n"
          ]
        },
        {
          "name": "stderr",
          "output_type": "stream",
          "text": [
            "\r 30%|███       | 3/10 [03:13<07:31, 64.49s/it]"
          ]
        },
        {
          "name": "stdout",
          "output_type": "stream",
          "text": [
            "Validation loss in Epoch 2: 0.023503007260816437\n"
          ]
        },
        {
          "name": "stderr",
          "output_type": "stream",
          "text": [
            "\r 40%|████      | 4/10 [04:18<06:27, 64.66s/it]"
          ]
        },
        {
          "name": "stdout",
          "output_type": "stream",
          "text": [
            "Validation loss in Epoch 3: 0.023342822811433246\n"
          ]
        },
        {
          "name": "stderr",
          "output_type": "stream",
          "text": [
            "\r 50%|█████     | 5/10 [05:23<05:24, 64.82s/it]"
          ]
        },
        {
          "name": "stdout",
          "output_type": "stream",
          "text": [
            "Validation loss in Epoch 4: 0.020683650140251433\n"
          ]
        },
        {
          "name": "stderr",
          "output_type": "stream",
          "text": [
            "\r 60%|██████    | 6/10 [06:27<04:18, 64.68s/it]"
          ]
        },
        {
          "name": "stdout",
          "output_type": "stream",
          "text": [
            "Validation loss in Epoch 5: 0.021096062287688254\n"
          ]
        },
        {
          "name": "stderr",
          "output_type": "stream",
          "text": [
            "\r 70%|███████   | 7/10 [07:32<03:13, 64.66s/it]"
          ]
        },
        {
          "name": "stdout",
          "output_type": "stream",
          "text": [
            "Validation loss in Epoch 6: 0.020785312088472504\n"
          ]
        },
        {
          "name": "stderr",
          "output_type": "stream",
          "text": [
            "\r 80%|████████  | 8/10 [08:37<02:09, 64.81s/it]"
          ]
        },
        {
          "name": "stdout",
          "output_type": "stream",
          "text": [
            "Validation loss in Epoch 7: 0.019927816305841718\n"
          ]
        },
        {
          "name": "stderr",
          "output_type": "stream",
          "text": [
            "\r 90%|█████████ | 9/10 [09:42<01:04, 64.77s/it]"
          ]
        },
        {
          "name": "stdout",
          "output_type": "stream",
          "text": [
            "Validation loss in Epoch 8: 0.019043979048728944\n"
          ]
        },
        {
          "name": "stderr",
          "output_type": "stream",
          "text": [
            "100%|██████████| 10/10 [10:46<00:00, 64.66s/it]"
          ]
        },
        {
          "name": "stdout",
          "output_type": "stream",
          "text": [
            "Validation loss in Epoch 9: 0.018900840649647373\n",
            "\n",
            " Testing the best model:\n"
          ]
        },
        {
          "name": "stderr",
          "output_type": "stream",
          "text": [
            "\n"
          ]
        },
        {
          "name": "stdout",
          "output_type": "stream",
          "text": [
            "Test MSE: 0.018850508385470935\n",
            "\n"
          ]
        }
      ],
      "source": [
        "model = MACTitan(\n",
        "    input_dim = 1,\n",
        "    hidden_dim = 16,\n",
        "    output_dim = 1,\n",
        "    context_window = 16,\n",
        "    pm_len = 4,\n",
        "    n_layers = 2,\n",
        "    n_layers_nmm = 2,\n",
        "    eta=0.9,\n",
        "    theta=0.01\n",
        ").to(device)\n",
        "\n",
        "optimizer = optim.Adam(model.outer_params)\n",
        "\n",
        "best_model = train_and_test(model, optimizer, _train_loader, _valid_loader, _test_loader, 10, True)"
      ]
    },
    {
      "cell_type": "code",
      "execution_count": null,
      "metadata": {
        "colab": {
          "base_uri": "https://localhost:8080/"
        },
        "id": "fBouurDYxO_j",
        "outputId": "03339314-919d-4039-8618-07b29a26392a"
      },
      "outputs": [
        {
          "name": "stdout",
          "output_type": "stream",
          "text": [
            "Training:\n"
          ]
        },
        {
          "name": "stderr",
          "output_type": "stream",
          "text": [
            "  7%|▋         | 1/15 [00:57<13:19, 57.11s/it]"
          ]
        },
        {
          "name": "stdout",
          "output_type": "stream",
          "text": [
            "Validation loss in Epoch 0: 0.0434265883905547\n"
          ]
        },
        {
          "name": "stderr",
          "output_type": "stream",
          "text": [
            "\r 13%|█▎        | 2/15 [01:54<12:24, 57.26s/it]"
          ]
        },
        {
          "name": "stdout",
          "output_type": "stream",
          "text": [
            "Validation loss in Epoch 1: 0.03195581351007734\n"
          ]
        },
        {
          "name": "stderr",
          "output_type": "stream",
          "text": [
            "\r 20%|██        | 3/15 [02:52<11:32, 57.73s/it]"
          ]
        },
        {
          "name": "stdout",
          "output_type": "stream",
          "text": [
            "Validation loss in Epoch 2: 0.027463582211307118\n"
          ]
        },
        {
          "name": "stderr",
          "output_type": "stream",
          "text": [
            "\r 27%|██▋       | 4/15 [03:51<10:37, 57.97s/it]"
          ]
        },
        {
          "name": "stdout",
          "output_type": "stream",
          "text": [
            "Validation loss in Epoch 3: 0.029187180740492685\n"
          ]
        },
        {
          "name": "stderr",
          "output_type": "stream",
          "text": [
            "\r 33%|███▎      | 5/15 [04:50<09:44, 58.40s/it]"
          ]
        },
        {
          "name": "stdout",
          "output_type": "stream",
          "text": [
            "Validation loss in Epoch 4: 0.02582288437655994\n"
          ]
        },
        {
          "name": "stderr",
          "output_type": "stream",
          "text": [
            "\r 40%|████      | 6/15 [05:49<08:46, 58.53s/it]"
          ]
        },
        {
          "name": "stdout",
          "output_type": "stream",
          "text": [
            "Validation loss in Epoch 5: 0.022780442610383034\n"
          ]
        },
        {
          "name": "stderr",
          "output_type": "stream",
          "text": [
            "\r 47%|████▋     | 7/15 [06:47<07:48, 58.60s/it]"
          ]
        },
        {
          "name": "stdout",
          "output_type": "stream",
          "text": [
            "Validation loss in Epoch 6: 0.019899009859987667\n"
          ]
        },
        {
          "name": "stderr",
          "output_type": "stream",
          "text": [
            "\r 53%|█████▎    | 8/15 [07:46<06:50, 58.58s/it]"
          ]
        },
        {
          "name": "stdout",
          "output_type": "stream",
          "text": [
            "Validation loss in Epoch 7: 0.019312060943671636\n"
          ]
        },
        {
          "name": "stderr",
          "output_type": "stream",
          "text": [
            "\r 60%|██████    | 9/15 [08:44<05:51, 58.53s/it]"
          ]
        },
        {
          "name": "stdout",
          "output_type": "stream",
          "text": [
            "Validation loss in Epoch 8: 0.021618760536823954\n"
          ]
        },
        {
          "name": "stderr",
          "output_type": "stream",
          "text": [
            "\r 67%|██████▋   | 10/15 [09:42<04:51, 58.36s/it]"
          ]
        },
        {
          "name": "stdout",
          "output_type": "stream",
          "text": [
            "Validation loss in Epoch 9: 0.019004022436482564\n"
          ]
        },
        {
          "name": "stderr",
          "output_type": "stream",
          "text": [
            "\r 73%|███████▎  | 11/15 [10:40<03:52, 58.24s/it]"
          ]
        },
        {
          "name": "stdout",
          "output_type": "stream",
          "text": [
            "Validation loss in Epoch 10: 0.019028938029493604\n"
          ]
        },
        {
          "name": "stderr",
          "output_type": "stream",
          "text": [
            "\r 80%|████████  | 12/15 [11:38<02:54, 58.12s/it]"
          ]
        },
        {
          "name": "stdout",
          "output_type": "stream",
          "text": [
            "Validation loss in Epoch 11: 0.019625601917505266\n"
          ]
        },
        {
          "name": "stderr",
          "output_type": "stream",
          "text": [
            "\r 87%|████████▋ | 13/15 [12:36<01:55, 57.94s/it]"
          ]
        },
        {
          "name": "stdout",
          "output_type": "stream",
          "text": [
            "Validation loss in Epoch 12: 0.018792823010257313\n"
          ]
        },
        {
          "name": "stderr",
          "output_type": "stream",
          "text": [
            "\r 93%|█████████▎| 14/15 [13:33<00:57, 57.82s/it]"
          ]
        },
        {
          "name": "stdout",
          "output_type": "stream",
          "text": [
            "Validation loss in Epoch 13: 0.0192281288760049\n"
          ]
        },
        {
          "name": "stderr",
          "output_type": "stream",
          "text": [
            "100%|██████████| 15/15 [14:31<00:00, 58.07s/it]"
          ]
        },
        {
          "name": "stdout",
          "output_type": "stream",
          "text": [
            "Validation loss in Epoch 14: 0.019239492767623493\n",
            "\n",
            " Testing the best model:\n"
          ]
        },
        {
          "name": "stderr",
          "output_type": "stream",
          "text": [
            "\n"
          ]
        },
        {
          "name": "stdout",
          "output_type": "stream",
          "text": [
            "Test MSE: 0.018783531337976455\n",
            "\n"
          ]
        }
      ],
      "source": [
        "model = MACTitan(\n",
        "    input_dim = 1,\n",
        "    hidden_dim = 16,\n",
        "    output_dim = 1,\n",
        "    context_window = 16,\n",
        "    pm_len = 4,\n",
        "    n_layers = 2,\n",
        "    n_layers_nmm = 1,\n",
        "    eta=0.9,\n",
        "    theta=0.01\n",
        ").to(device)\n",
        "\n",
        "optimizer = optim.Adam(model.outer_params)\n",
        "\n",
        "best_model = train_and_test(model, optimizer, _train_loader, _valid_loader, _test_loader, 15, True)"
      ]
    }
  ],
  "metadata": {
    "accelerator": "GPU",
    "colab": {
      "gpuType": "T4",
      "provenance": []
    },
    "kernelspec": {
      "display_name": "Python 3",
      "name": "python3"
    },
    "language_info": {
      "codemirror_mode": {
        "name": "ipython",
        "version": 3
      },
      "file_extension": ".py",
      "mimetype": "text/x-python",
      "name": "python",
      "nbconvert_exporter": "python",
      "pygments_lexer": "ipython3",
      "version": "3.13.2"
    }
  },
  "nbformat": 4,
  "nbformat_minor": 0
}
